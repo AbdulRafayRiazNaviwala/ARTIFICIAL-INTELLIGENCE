{
 "cells": [
  {
   "cell_type": "code",
   "execution_count": 1,
   "metadata": {},
   "outputs": [
    {
     "name": "stdout",
     "output_type": "stream",
     "text": [
      "The name of husband is  ali and the name of wife is  fatima .\n"
     ]
    }
   ],
   "source": [
    "def couples(hname , wname):\n",
    "    print(\"The name of husband is \" ,hname ,\n",
    "          \"and the name of wife is \" ,wname, '.'\n",
    "         )\n",
    "    \n",
    "couples(wname='fatima' , hname='ali')    "
   ]
  },
  {
   "cell_type": "code",
   "execution_count": 2,
   "metadata": {},
   "outputs": [
    {
     "name": "stdout",
     "output_type": "stream",
     "text": [
      "The name of my teachers are Nasir Ali and Shahzad Ahsan\n"
     ]
    }
   ],
   "source": [
    "def teachers(t1,t2):\n",
    "    print(f\"The name of my teachers are {t1} and {t2}\")\n",
    "\n",
    "          \n",
    "teachers('Nasir Ali','Shahzad Ahsan')          "
   ]
  },
  {
   "cell_type": "code",
   "execution_count": 3,
   "metadata": {},
   "outputs": [
    {
     "name": "stdout",
     "output_type": "stream",
     "text": [
      "The name of husband is  Faraz and the name of wife is  Sara .\n"
     ]
    }
   ],
   "source": [
    "couples('Faraz','Sara')"
   ]
  },
  {
   "cell_type": "code",
   "execution_count": 4,
   "metadata": {},
   "outputs": [],
   "source": [
    "def da(dam,dae):\n",
    "    print(\"Dhoraji Association works for {} and {}\".format(dam,dae))"
   ]
  },
  {
   "cell_type": "code",
   "execution_count": 5,
   "metadata": {},
   "outputs": [
    {
     "name": "stdout",
     "output_type": "stream",
     "text": [
      "Dhoraji Association works for Medical and Education\n"
     ]
    }
   ],
   "source": [
    "da('Medical','Education')"
   ]
  },
  {
   "cell_type": "code",
   "execution_count": 6,
   "metadata": {},
   "outputs": [
    {
     "name": "stdout",
     "output_type": "stream",
     "text": [
      "My name is Abdul Rafay . \n",
      "I am 18 years old.\n"
     ]
    }
   ],
   "source": [
    "def my_info(name,age):\n",
    "    print(f\"My name is {name} . \")\n",
    "    print(f\"I am {age} years old.\" )\n",
    "    \n",
    "my_info('Abdul Rafay' , 18)    "
   ]
  },
  {
   "cell_type": "code",
   "execution_count": 7,
   "metadata": {},
   "outputs": [],
   "source": [
    "def cal():\n",
    "    while True:\n",
    "        fn=int(input(\"enter first number: \"))\n",
    "        sn=int(input(\"enter second number: \"))\n",
    "        p=input(\"\\n\\n[press a for addition\\npress s for subtraction\\npress m for multiplication\\npress d for division\\npress q for quit]\\n\\nEnter your desired operation: \")\n",
    "    \n",
    "        if p=='a':\n",
    "            b=fn+sn\n",
    "            print(\"the answer is: \",b)\n",
    "        \n",
    "        elif p=='s':\n",
    "            b=fn+sn\n",
    "            print(\"the answer is: \",b)\n",
    "        \n",
    "        elif p=='m':\n",
    "            b=fn*sn\n",
    "            print(\"the answer is: \" ,b)\n",
    "        \n",
    "        elif p=='d':\n",
    "            b=fn/sn\n",
    "            print(\"the answer is: \",b)\n",
    "        \n",
    "        elif p=='q':\n",
    "            break\n",
    "        \n",
    "        else:\n",
    "            print(\"Invalid Operation\")"
   ]
  },
  {
   "cell_type": "code",
   "execution_count": 8,
   "metadata": {},
   "outputs": [
    {
     "name": "stdout",
     "output_type": "stream",
     "text": [
      "enter first number: 6\n",
      "enter second number: 9\n",
      "\n",
      "\n",
      "[press a for addition\n",
      "press s for subtraction\n",
      "press m for multiplication\n",
      "press d for division\n",
      "press q for quit]\n",
      "\n",
      "Enter your desired operation: m\n",
      "the answer is:  54\n",
      "enter first number: 9\n",
      "enter second number: 8\n",
      "\n",
      "\n",
      "[press a for addition\n",
      "press s for subtraction\n",
      "press m for multiplication\n",
      "press d for division\n",
      "press q for quit]\n",
      "\n",
      "Enter your desired operation: q\n"
     ]
    }
   ],
   "source": [
    "cal()"
   ]
  },
  {
   "cell_type": "code",
   "execution_count": 9,
   "metadata": {},
   "outputs": [],
   "source": [
    "def cal():\n",
    "    while True:\n",
    "        fn=int(input(\"enter first number: \"))\n",
    "        \n",
    "        sn=int(input(\"enter second number: \"))\n",
    "        \n",
    "        p=input(\"\\n\\n[press + for addition\\npress - for subtraction\\npress * for multiplication\\npress / for division\\npress q for quit]\\n\\nEnter your desired operation: \")\n",
    "    \n",
    "        if p=='+':\n",
    "            b=fn+sn\n",
    "            print(\"the answer is: \",b)\n",
    "        \n",
    "        elif p=='-':\n",
    "            b=fn+sn\n",
    "            print(\"the answer is: \",b)\n",
    "        \n",
    "        elif p=='*':\n",
    "            b=fn*sn\n",
    "            print(\"the answer is: \" ,b)\n",
    "        \n",
    "        elif p=='/':\n",
    "            b=fn/sn\n",
    "            print(\"the answer is: \",b)\n",
    "        \n",
    "        elif p=='q':\n",
    "            break\n",
    "        \n",
    "        else:\n",
    "            print(\"Invalid Operation\")"
   ]
  },
  {
   "cell_type": "code",
   "execution_count": 10,
   "metadata": {},
   "outputs": [
    {
     "name": "stdout",
     "output_type": "stream",
     "text": [
      "enter first number: 7\n",
      "enter second number: 9\n",
      "\n",
      "\n",
      "[press + for addition\n",
      "press - for subtraction\n",
      "press * for multiplication\n",
      "press / for division\n",
      "press q for quit]\n",
      "\n",
      "Enter your desired operation: /\n",
      "the answer is:  0.7777777777777778\n",
      "enter first number: 9\n",
      "enter second number: 8\n",
      "\n",
      "\n",
      "[press + for addition\n",
      "press - for subtraction\n",
      "press * for multiplication\n",
      "press / for division\n",
      "press q for quit]\n",
      "\n",
      "Enter your desired operation: q\n"
     ]
    }
   ],
   "source": [
    "cal()"
   ]
  },
  {
   "cell_type": "code",
   "execution_count": 11,
   "metadata": {},
   "outputs": [
    {
     "name": "stdout",
     "output_type": "stream",
     "text": [
      "Hello  1\n",
      "Hello  2\n",
      "Hello  3\n",
      "Hello  4\n",
      "Hello  5\n"
     ]
    }
   ],
   "source": [
    "def my_list(name):\n",
    "    for name1 in name:\n",
    "        print(\"Hello \" , name1)\n",
    "\n",
    "a=[1,2,3,4,5]\n",
    "my_list(a)"
   ]
  },
  {
   "cell_type": "code",
   "execution_count": 12,
   "metadata": {},
   "outputs": [],
   "source": [
    "def info(a):\n",
    "    for data in info:\n",
    "        \n",
    "        print(data)"
   ]
  },
  {
   "cell_type": "code",
   "execution_count": 13,
   "metadata": {},
   "outputs": [],
   "source": [
    "info=['Abdul Rafay','Muhammad Riaz',18,'Male']"
   ]
  },
  {
   "cell_type": "code",
   "execution_count": 14,
   "metadata": {},
   "outputs": [
    {
     "data": {
      "text/plain": [
       "['Abdul Rafay', 'Muhammad Riaz', 18, 'Male']"
      ]
     },
     "execution_count": 14,
     "metadata": {},
     "output_type": "execute_result"
    }
   ],
   "source": [
    "info"
   ]
  },
  {
   "cell_type": "code",
   "execution_count": 15,
   "metadata": {},
   "outputs": [],
   "source": [
    "def info(a):\n",
    "    for x,y in a.items():\n",
    "        print(f\"{x.title()}:{y.title()}\")"
   ]
  },
  {
   "cell_type": "code",
   "execution_count": 16,
   "metadata": {},
   "outputs": [],
   "source": [
    "list_info={\"First name\":\"Abdul Rafay\",\"Last name\":\"Muhammad Riaz\",\"Gender\":\"Male\",\"Age\":\"18\"}"
   ]
  },
  {
   "cell_type": "code",
   "execution_count": 17,
   "metadata": {},
   "outputs": [
    {
     "name": "stdout",
     "output_type": "stream",
     "text": [
      "First Name:Abdul Rafay\n",
      "Last Name:Muhammad Riaz\n",
      "Gender:Male\n",
      "Age:18\n"
     ]
    }
   ],
   "source": [
    "info(list_info)"
   ]
  },
  {
   "cell_type": "code",
   "execution_count": null,
   "metadata": {},
   "outputs": [],
   "source": []
  }
 ],
 "metadata": {
  "kernelspec": {
   "display_name": "Python 3",
   "language": "python",
   "name": "python3"
  },
  "language_info": {
   "codemirror_mode": {
    "name": "ipython",
    "version": 3
   },
   "file_extension": ".py",
   "mimetype": "text/x-python",
   "name": "python",
   "nbconvert_exporter": "python",
   "pygments_lexer": "ipython3",
   "version": "3.7.1"
  }
 },
 "nbformat": 4,
 "nbformat_minor": 2
}
