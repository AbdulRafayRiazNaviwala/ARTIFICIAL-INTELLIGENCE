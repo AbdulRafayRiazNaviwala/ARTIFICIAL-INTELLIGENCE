{
 "cells": [
  {
   "cell_type": "code",
   "execution_count": 1,
   "metadata": {},
   "outputs": [],
   "source": [
    "class Patient():\n",
    "    def __init__(self,first_name,last_name,age):\n",
    "        self.l_n=last_name\n",
    "        self.f_n=first_name\n",
    "        self.age=age\n",
    "        \n",
    "pid4343=Patient(\"Taleb\",'Khan',61)        "
   ]
  },
  {
   "cell_type": "code",
   "execution_count": 2,
   "metadata": {},
   "outputs": [
    {
     "name": "stdout",
     "output_type": "stream",
     "text": [
      "Khan\n"
     ]
    },
    {
     "data": {
      "text/plain": [
       "'Anand'"
      ]
     },
     "execution_count": 2,
     "metadata": {},
     "output_type": "execute_result"
    }
   ],
   "source": [
    "pid4344=Patient(\"Anand\",\"Punya\",29)\n",
    "pid4345=Patient(\"Opponheimer\",\"Douglas\",15)\n",
    "pid4346=Patient(\"Lin\",\"Lilly\",48)\n",
    "\n",
    "print(pid4343.l_n)\n",
    "pid4344.f_n"
   ]
  },
  {
   "cell_type": "code",
   "execution_count": 3,
   "metadata": {},
   "outputs": [],
   "source": [
    "age_of_patient=pid4343.age"
   ]
  },
  {
   "cell_type": "code",
   "execution_count": 4,
   "metadata": {},
   "outputs": [],
   "source": [
    "class Patient():\n",
    "    def __init__(self,last_name,first_name,age):\n",
    "        self.last_name=last_name\n",
    "        self.first_name=first_name\n",
    "        self.age=age\n",
    "    def say_if_minor(self):\n",
    "        if self.age<21:\n",
    "            print(\"This patient is a minor\")"
   ]
  },
  {
   "cell_type": "code",
   "execution_count": 5,
   "metadata": {},
   "outputs": [],
   "source": [
    "class Car():\n",
    "    pass"
   ]
  },
  {
   "cell_type": "code",
   "execution_count": 15,
   "metadata": {},
   "outputs": [],
   "source": [
    "class mobile():\n",
    "    def __init__(self,model,RAM,ROM,colour,front_camera,back_camera):\n",
    "        self.model=model\n",
    "        self.RAM=RAM\n",
    "        self.ROM=ROM\n",
    "        self.colour=colour\n",
    "        self.front_camera=front_camera\n",
    "        self.back_camera=back_camera\n",
    "    def water_proof(self):\n",
    "        print(f\"samsung {self.model}, in {self.colour} is waterproof\")\n",
    "    def wireless_chargeable(self):\n",
    "        print(f\"samsung {self.model}, can be charged through wireless charger\")"
   ]
  },
  {
   "cell_type": "code",
   "execution_count": null,
   "metadata": {},
   "outputs": [],
   "source": []
  },
  {
   "cell_type": "code",
   "execution_count": 7,
   "metadata": {},
   "outputs": [],
   "source": [
    "class Car():\n",
    "    def __init__(self,model,body,colour,max_speed):\n",
    "        pass"
   ]
  },
  {
   "cell_type": "code",
   "execution_count": 10,
   "metadata": {},
   "outputs": [],
   "source": [
    "class Car():\n",
    "    \"\"\"A simple attempt to represent a car.\"\"\"\n",
    "    \n",
    "    def __init__(self,make,model,year):\n",
    "        \n",
    "        \"\"\"Initiative attributes to describe a car.\"\"\"\n",
    "        self.make=make\n",
    "        self.model=model\n",
    "        self.year=year\n",
    "        self.odometer_reading=0\n",
    "        \n",
    "    def get_descriptive_name(self):\n",
    "        \n",
    "        \"\"\"Return a neatly formatted descriptive name.\"\"\"\n",
    "        long_name=str(self.year)+' '+self.make+' '+self.model\n",
    "        return long_name.title()\n",
    "    \n",
    "    def read_odometer(self):\n",
    "        print(\"This car has \"+str(self.odometer_reading)+\" miles on it.\")\n",
    "    def update_odometer(self,mileage):\n",
    "        self.odometer_reading=mileage"
   ]
  },
  {
   "cell_type": "code",
   "execution_count": 12,
   "metadata": {},
   "outputs": [
    {
     "name": "stdout",
     "output_type": "stream",
     "text": [
      "This car has 50 miles on it.\n"
     ]
    },
    {
     "data": {
      "text/plain": [
       "'2016 Audi A4'"
      ]
     },
     "execution_count": 12,
     "metadata": {},
     "output_type": "execute_result"
    }
   ],
   "source": [
    "my_new_car=Car('audi','a4',2016)\n",
    "my_new_car.update_odometer(50)\n",
    "my_new_car.read_odometer()\n",
    "my_new_car.get_descriptive_name()"
   ]
  },
  {
   "cell_type": "code",
   "execution_count": null,
   "metadata": {},
   "outputs": [],
   "source": []
  }
 ],
 "metadata": {
  "kernelspec": {
   "display_name": "Python 3",
   "language": "python",
   "name": "python3"
  },
  "language_info": {
   "codemirror_mode": {
    "name": "ipython",
    "version": 3
   },
   "file_extension": ".py",
   "mimetype": "text/x-python",
   "name": "python",
   "nbconvert_exporter": "python",
   "pygments_lexer": "ipython3",
   "version": "3.7.1"
  }
 },
 "nbformat": 4,
 "nbformat_minor": 2
}
