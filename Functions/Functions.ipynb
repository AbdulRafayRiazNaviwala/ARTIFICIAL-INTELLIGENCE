{
 "cells": [
  {
   "cell_type": "markdown",
   "metadata": {},
   "source": [
    "# Functions"
   ]
  },
  {
   "cell_type": "code",
   "execution_count": 1,
   "metadata": {},
   "outputs": [],
   "source": [
    "def function1():\n",
    "    print(\"Hello Function\")"
   ]
  },
  {
   "cell_type": "code",
   "execution_count": 2,
   "metadata": {},
   "outputs": [
    {
     "name": "stdout",
     "output_type": "stream",
     "text": [
      "Hello Function\n"
     ]
    }
   ],
   "source": [
    "function1()"
   ]
  },
  {
   "cell_type": "code",
   "execution_count": 3,
   "metadata": {},
   "outputs": [],
   "source": [
    "def val(j):\n",
    "    int()+int()\n",
    "    print(j)"
   ]
  },
  {
   "cell_type": "code",
   "execution_count": 4,
   "metadata": {},
   "outputs": [
    {
     "name": "stdout",
     "output_type": "stream",
     "text": [
      "enter 1st value:- 20\n",
      "enter 2nd value:- 7\n",
      "27\n"
     ]
    }
   ],
   "source": [
    "var=int(input(\"enter 1st value:- \"))+int(input(\"enter 2nd value:- \"))\n",
    "val(var)"
   ]
  },
  {
   "cell_type": "code",
   "execution_count": 5,
   "metadata": {},
   "outputs": [
    {
     "name": "stdout",
     "output_type": "stream",
     "text": [
      "Hello Abdul Rafay !\n"
     ]
    }
   ],
   "source": [
    "def name(myname):\n",
    "    print(\"Hello\" , myname , '!')\n",
    "\n",
    "    \n",
    "name('Abdul Rafay')\n",
    "    "
   ]
  },
  {
   "cell_type": "code",
   "execution_count": 6,
   "metadata": {},
   "outputs": [
    {
     "name": "stdout",
     "output_type": "stream",
     "text": [
      "18\n"
     ]
    }
   ],
   "source": [
    "def sum1(a,b,c):\n",
    "    return a*b-c\n",
    "\n",
    "\n",
    "d=sum1(4,5,2)\n",
    "print(d)"
   ]
  },
  {
   "cell_type": "code",
   "execution_count": 7,
   "metadata": {},
   "outputs": [
    {
     "name": "stdout",
     "output_type": "stream",
     "text": [
      "30\n"
     ]
    }
   ],
   "source": [
    "def addition():\n",
    "    a= 10\n",
    "    b=20\n",
    "    c =a+b\n",
    "    print(c)\n",
    "    \n",
    "    \n",
    "addition()    "
   ]
  },
  {
   "cell_type": "code",
   "execution_count": 8,
   "metadata": {},
   "outputs": [],
   "source": [
    "def addition(a,b):\n",
    "    c=a+b\n",
    "    print(c)\n",
    "    \n",
    "    \n",
    "    "
   ]
  },
  {
   "cell_type": "code",
   "execution_count": 9,
   "metadata": {},
   "outputs": [
    {
     "name": "stdout",
     "output_type": "stream",
     "text": [
      "2200\n"
     ]
    }
   ],
   "source": [
    "addition(100,2100)"
   ]
  },
  {
   "cell_type": "code",
   "execution_count": 10,
   "metadata": {},
   "outputs": [
    {
     "name": "stdout",
     "output_type": "stream",
     "text": [
      "6\n"
     ]
    }
   ],
   "source": [
    "addition(1,5)"
   ]
  },
  {
   "cell_type": "code",
   "execution_count": 11,
   "metadata": {},
   "outputs": [],
   "source": [
    "def addition(a,b):\n",
    "    c=a+b\n",
    "    return c\n",
    "\n"
   ]
  },
  {
   "cell_type": "code",
   "execution_count": 12,
   "metadata": {},
   "outputs": [
    {
     "data": {
      "text/plain": [
       "1100"
      ]
     },
     "execution_count": 12,
     "metadata": {},
     "output_type": "execute_result"
    }
   ],
   "source": [
    "result = addition(100,2100)\n",
    "result // 2\n"
   ]
  },
  {
   "cell_type": "code",
   "execution_count": 13,
   "metadata": {},
   "outputs": [
    {
     "data": {
      "text/plain": [
       "6"
      ]
     },
     "execution_count": 13,
     "metadata": {},
     "output_type": "execute_result"
    }
   ],
   "source": [
    "addition(1,5)"
   ]
  },
  {
   "cell_type": "code",
   "execution_count": 14,
   "metadata": {},
   "outputs": [
    {
     "name": "stdout",
     "output_type": "stream",
     "text": [
      "Ahsan, How are you? \n",
      "Anas, How are you? \n",
      "Umer, How are you? \n",
      "Bisma, How are you? \n"
     ]
    }
   ],
   "source": [
    "def allnames(names):\n",
    "    for name in names:\n",
    "        msg = name.title() + ', How are you? '\n",
    "        print(msg)\n",
    "        \n",
    "        \n",
    "allusers = ['ahsan' , 'anas' , 'umer' , 'bisma']\n",
    "allnames(allusers)"
   ]
  },
  {
   "cell_type": "markdown",
   "metadata": {},
   "source": [
    "name of student is \"\"\"\"\"\"\n",
    "total marks are \"\"\"\"\"\"\""
   ]
  },
  {
   "cell_type": "code",
   "execution_count": 15,
   "metadata": {},
   "outputs": [],
   "source": [
    "def result(name, m1,m2,m3):\n",
    "    total = m1+m2+m3\n",
    "    print(f\"Name of student is:{name}\")\n",
    "    print(f\"Total Marks are: {total}\")"
   ]
  },
  {
   "cell_type": "code",
   "execution_count": 16,
   "metadata": {},
   "outputs": [
    {
     "name": "stdout",
     "output_type": "stream",
     "text": [
      "Name of student is:Ali\n",
      "Total Marks are: 257\n"
     ]
    }
   ],
   "source": [
    "result(\"Ali\", 78,89,90)"
   ]
  },
  {
   "cell_type": "code",
   "execution_count": 17,
   "metadata": {},
   "outputs": [
    {
     "name": "stdout",
     "output_type": "stream",
     "text": [
      "Name of student is:Asad\n",
      "Total Marks are: 207\n"
     ]
    }
   ],
   "source": [
    "result(\"Asad\", 58,69,80)"
   ]
  },
  {
   "cell_type": "code",
   "execution_count": 3,
   "metadata": {},
   "outputs": [],
   "source": [
    "def result(name):\n",
    "    print(\"*********Details about\",name,\"(Term Examination)***********\")\n",
    "    m1=int(input(\"Marks of 1st subject: \"))\n",
    "    m2=int(input(\"Marks of 2nd subject: \"))\n",
    "    m3=int(input(\"Marks of 3rd subject: \"))\n",
    "    total = m1+m2+m3\n",
    "    per=int(total)/3\n",
    "    if per>=80:\n",
    "        grade = \"A+\"\n",
    "    elif per>=70:\n",
    "        grade=\"A\"\n",
    "    elif per>=60:\n",
    "        grade=\"B\"\n",
    "    elif per>=50:\n",
    "        grade=\"C\"\n",
    "    else:\n",
    "        grade=\"Fail\"\n",
    "    print(f\"Total Marks are: {total}\")\n",
    "    print(f\"Percentage is: {round(per,2)}\")\n",
    "    print(f\"Grade is:{grade}\")"
   ]
  },
  {
   "cell_type": "code",
   "execution_count": 4,
   "metadata": {},
   "outputs": [
    {
     "name": "stdout",
     "output_type": "stream",
     "text": [
      "*********Details about Rafay (Term Examination)***********\n",
      "Marks of 1st subject: 98\n",
      "Marks of 2nd subject: 89\n",
      "Marks of 3rd subject: 99\n",
      "Total Marks are: 286\n",
      "Percentage is: 95.33\n",
      "Grade is:A+\n"
     ]
    }
   ],
   "source": [
    "result(\"Rafay\")"
   ]
  },
  {
   "cell_type": "code",
   "execution_count": null,
   "metadata": {},
   "outputs": [],
   "source": []
  }
 ],
 "metadata": {
  "kernelspec": {
   "display_name": "Python 3",
   "language": "python",
   "name": "python3"
  },
  "language_info": {
   "codemirror_mode": {
    "name": "ipython",
    "version": 3
   },
   "file_extension": ".py",
   "mimetype": "text/x-python",
   "name": "python",
   "nbconvert_exporter": "python",
   "pygments_lexer": "ipython3",
   "version": "3.7.1"
  }
 },
 "nbformat": 4,
 "nbformat_minor": 2
}
