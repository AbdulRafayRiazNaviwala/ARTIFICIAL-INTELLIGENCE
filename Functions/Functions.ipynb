{
 "cells": [
  {
   "cell_type": "code",
   "execution_count": 1,
   "metadata": {},
   "outputs": [],
   "source": [
    "def cal(n1,n2,op):\n",
    "    if op==\"+\":\n",
    "        print(n1+n2)\n",
    "    elif op==\"-\":\n",
    "        print(n1-n2)\n",
    "    elif op==\"*\":\n",
    "        print(n1*n2)\n",
    "    elif op==\"/\":\n",
    "        print(n1/n2)\n",
    "    else:\n",
    "        print(\"invalid operator\")"
   ]
  },
  {
   "cell_type": "code",
   "execution_count": 2,
   "metadata": {},
   "outputs": [
    {
     "name": "stdout",
     "output_type": "stream",
     "text": [
      "14\n"
     ]
    }
   ],
   "source": [
    "cal(2,7,\"*\")"
   ]
  },
  {
   "cell_type": "code",
   "execution_count": 3,
   "metadata": {},
   "outputs": [],
   "source": [
    "def family(son_name,father_name):    #keyword argument\n",
    "    print(f\"Son name is {son_name}\")\n",
    "    print(f\"Father name is {father_name}\")"
   ]
  },
  {
   "cell_type": "code",
   "execution_count": 4,
   "metadata": {},
   "outputs": [
    {
     "name": "stdout",
     "output_type": "stream",
     "text": [
      "Son name is Abdul Rafay\n",
      "Father name is Muhammad Riaz\n"
     ]
    }
   ],
   "source": [
    "family(son_name=\"Abdul Rafay\",father_name=\"Muhammad Riaz\")"
   ]
  },
  {
   "cell_type": "code",
   "execution_count": 5,
   "metadata": {},
   "outputs": [],
   "source": [
    "def friends(nof):\n",
    "    for n in nof:\n",
    "        print(n)"
   ]
  },
  {
   "cell_type": "code",
   "execution_count": 6,
   "metadata": {},
   "outputs": [
    {
     "name": "stdout",
     "output_type": "stream",
     "text": [
      "Qasim\n",
      "Bilal\n",
      "Owais\n"
     ]
    }
   ],
   "source": [
    "names=['Qasim','Bilal','Owais']\n",
    "friends(names)"
   ]
  },
  {
   "cell_type": "code",
   "execution_count": 7,
   "metadata": {},
   "outputs": [],
   "source": [
    "def my_full_name(f_name,m_name,l_name):\n",
    "    full_name=f_name+m_name+l_name\n",
    "    print(full_name)"
   ]
  },
  {
   "cell_type": "code",
   "execution_count": 9,
   "metadata": {},
   "outputs": [
    {
     "name": "stdout",
     "output_type": "stream",
     "text": [
      "Abdul Rafay Riaz\n"
     ]
    }
   ],
   "source": [
    "my_full_name('Abdul ','Rafay',' Riaz')"
   ]
  },
  {
   "cell_type": "code",
   "execution_count": 10,
   "metadata": {},
   "outputs": [],
   "source": [
    "def tax(shopping,tax=5):\n",
    "    if shopping>5000:\n",
    "        tax=10\n",
    "        print(f\"{tax}% tax will be applied on your shopping\")\n",
    "    else:\n",
    "        print(f\"{tax}% tax will be applied on your shopping\")"
   ]
  },
  {
   "cell_type": "code",
   "execution_count": 12,
   "metadata": {},
   "outputs": [
    {
     "name": "stdout",
     "output_type": "stream",
     "text": [
      "10% tax will be applied on your shopping\n"
     ]
    }
   ],
   "source": [
    "tax(5001)"
   ]
  },
  {
   "cell_type": "code",
   "execution_count": 14,
   "metadata": {},
   "outputs": [],
   "source": [
    "def pizza(*flavor , **toppings):\n",
    "    print(flavor)\n",
    "    print(toppings)"
   ]
  },
  {
   "cell_type": "code",
   "execution_count": 15,
   "metadata": {},
   "outputs": [
    {
     "name": "stdout",
     "output_type": "stream",
     "text": [
      "('Tikka', 'Fajita')\n",
      "{'name': 'Sara', 'age': 20, 'gender': 'female'}\n"
     ]
    }
   ],
   "source": [
    "pizza('Tikka','Fajita',name='Sara',age=20,gender='female')"
   ]
  },
  {
   "cell_type": "code",
   "execution_count": null,
   "metadata": {},
   "outputs": [],
   "source": []
  }
 ],
 "metadata": {
  "kernelspec": {
   "display_name": "Python 3",
   "language": "python",
   "name": "python3"
  },
  "language_info": {
   "codemirror_mode": {
    "name": "ipython",
    "version": 3
   },
   "file_extension": ".py",
   "mimetype": "text/x-python",
   "name": "python",
   "nbconvert_exporter": "python",
   "pygments_lexer": "ipython3",
   "version": "3.7.1"
  }
 },
 "nbformat": 4,
 "nbformat_minor": 2
}
