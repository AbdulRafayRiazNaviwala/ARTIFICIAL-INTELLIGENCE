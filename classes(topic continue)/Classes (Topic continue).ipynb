{
 "cells": [
  {
   "cell_type": "code",
   "execution_count": 1,
   "metadata": {},
   "outputs": [],
   "source": [
    "class Dog():\n",
    "    \"\"\"A simple attempt to model a dog.\"\"\"\n",
    "    \n",
    "    def __init__(self, name, age):\n",
    "        \"\"\"Initialize name and age attributes.\"\"\"\n",
    "        self.name = name\n",
    "        self.age = age\n",
    "        \n",
    "    def sit(self):\n",
    "        \"\"\"Simulate a dog sitting in response to a command.\"\"\"\n",
    "        print(self.name.title() + \" is now sitting.\")\n",
    "        \n",
    "    def roll_over(self):\n",
    "        \"\"\"Simulate rolling over in response to a command.\"\"\"\n",
    "        print(self.name.title() + \" rolled over!\")"
   ]
  },
  {
   "cell_type": "code",
   "execution_count": 2,
   "metadata": {},
   "outputs": [],
   "source": [
    "class Car():\n",
    "    \"\"\"A simple attempt to represent a car.\"\"\"\n",
    "    \n",
    "    def __init__(self, make, model, year):\n",
    "        \"\"\"Initiative attributes to describe a car.\"\"\"\n",
    "        self.make = make\n",
    "        self.model = model\n",
    "        self.year = year\n",
    "        \n",
    "    def get_descriptive_name(self):\n",
    "        \"\"\"Return a neatly formatted descriptive name.\"\"\"\n",
    "        pass"
   ]
  },
  {
   "cell_type": "code",
   "execution_count": 16,
   "metadata": {},
   "outputs": [],
   "source": [
    "class Car():\n",
    "    def __init__(self,make,model,year):\n",
    "        self.make = make\n",
    "        self.model = model\n",
    "        self.year = year\n",
    "        self.odometer_reading = 70\n",
    "    def get_descriptive_name(self):\n",
    "        long_name = str(self.year)+\" \"+str(self.make)+\" \"+str(self.model)\n",
    "        return long_name.title()\n",
    "    def read_odometer(self):\n",
    "        print(\"This car has \"+str(self.odometer_reading)+\" miles on it.\")\n",
    "    def update_odometer(self, mileage):\n",
    "        if mileage >= self.odometer_reading:\n",
    "            self.odometer_reading = mileage\n",
    "        else:\n",
    "            print(\"You can't roll back an odometer!\")"
   ]
  },
  {
   "cell_type": "code",
   "execution_count": 17,
   "metadata": {},
   "outputs": [],
   "source": [
    "my_new_car=Car(\"audi\",\"a4\",2016)"
   ]
  },
  {
   "cell_type": "code",
   "execution_count": 20,
   "metadata": {},
   "outputs": [
    {
     "name": "stdout",
     "output_type": "stream",
     "text": [
      "You can't roll back an odometer!\n"
     ]
    }
   ],
   "source": [
    "my_new_car.update_odometer(60)"
   ]
  },
  {
   "cell_type": "code",
   "execution_count": 24,
   "metadata": {},
   "outputs": [],
   "source": [
    "class car():\n",
    "    def __init__(self,make,model,year):\n",
    "        self.make=make\n",
    "        self.model=model\n",
    "        self.year=year\n",
    "        self.odometer_reading=0\n",
    "    def get_descriptive_name(self):\n",
    "        long_name=str(self.year)+\" \"+self.make+\" \"+self.model\n",
    "        return long_name.title()\n",
    "    def read_odometer(self):\n",
    "        print(\"This car has \"+str(self.odometer_reading)+\" miles on it.\")\n",
    "    def update_odometer(self,mileage):\n",
    "        if mileage>=self.odometer_reading:\n",
    "            self.odometer_reading=mileage\n",
    "        else:\n",
    "            print(\"You cant roll back on odometer\")\n",
    "        return (f'Now car is showing {self.odometer_reading} mileage on it')"
   ]
  },
  {
   "cell_type": "code",
   "execution_count": 25,
   "metadata": {},
   "outputs": [
    {
     "name": "stdout",
     "output_type": "stream",
     "text": [
      "2016 Audi A4\n"
     ]
    }
   ],
   "source": [
    "my_new_car=Car(\"audi\",\"a4\",2016)\n",
    "print(my_new_car.get_descriptive_name())"
   ]
  },
  {
   "cell_type": "code",
   "execution_count": 27,
   "metadata": {},
   "outputs": [],
   "source": [
    "class restaurant():\n",
    "    def __init__(self,name,cuisine_type,open_close):\n",
    "        self.name=name\n",
    "        self.cuisine_type=cuisine_type\n",
    "        self.open_close=open_close\n",
    "        self.number_served=10\n",
    "    def describe_restaurant(self):\n",
    "        print(f\"restaurant name is {self.name} and cuisine type is {self.cuisine_type}\")\n",
    "        \n",
    "    def open_retaurant(self):\n",
    "        print(f\"restaurant is {self.open_close}\")\n",
    "        \n",
    "    def set_number_served(self,customer_served):\n",
    "        self.number_served=customer_served\n",
    "        return(f\"YOUR RESTAURANT HAS SERVED {self.number_served} CUSTOMER TODAY.\")\n",
    "    \n",
    "    def increament_number(self,number_serve):\n",
    "        self.number_served+=number_serve\n",
    "        return(f\"YOUR RESTAURANT HAS SERVED {self.number_served} CUSTOMER TODAY.\")"
   ]
  },
  {
   "cell_type": "markdown",
   "metadata": {},
   "source": [
    "# INHERITANCE"
   ]
  },
  {
   "cell_type": "code",
   "execution_count": 28,
   "metadata": {},
   "outputs": [],
   "source": [
    "class car():\n",
    "    def __init__(self,make,model,year):\n",
    "        self.make=make\n",
    "        self.model=model\n",
    "        self.year=year\n",
    "        self.odometer_reading=0\n",
    "    def get_descriptive_name(self):\n",
    "        long_name=str(self.year)+\" \"+self.make+\" \"+self.model\n",
    "        return long_name.title()\n",
    "    def read_odometer(self):\n",
    "        print(\"This car has \"+str(self.odometer_reading)+\" miles on it.\")\n",
    "    def increment_odometer(self,mile):\n",
    "        self.odometer_reading+=mile\n",
    "    def update_odometer(self,mileage):\n",
    "        if mileage>=self.odometer_reading:\n",
    "            self.odometer_reading=mileage\n",
    "        else:\n",
    "            print(\"You cant roll back on odometer\")\n",
    "        return (f'Now car is showing {self.odometer_reading} mileage on it')"
   ]
  },
  {
   "cell_type": "code",
   "execution_count": 29,
   "metadata": {},
   "outputs": [
    {
     "name": "stdout",
     "output_type": "stream",
     "text": [
      "2016 Tesla ,Model S\n"
     ]
    }
   ],
   "source": [
    "class electric_car(car):\n",
    "    def __init__(self,make,model,year):\n",
    "        super().__init__(make,model,year)\n",
    "        self.battery_size=70\n",
    "        \n",
    "    def describe_battery(self):\n",
    "        \"\"\"Print a statement\"\"\"\n",
    "        \n",
    "my_tesla=electric_car(\"tesla\",\",Model s\",2016)\n",
    "print(my_tesla.get_descriptive_name())"
   ]
  },
  {
   "cell_type": "code",
   "execution_count": null,
   "metadata": {},
   "outputs": [],
   "source": []
  }
 ],
 "metadata": {
  "kernelspec": {
   "display_name": "Python 3",
   "language": "python",
   "name": "python3"
  },
  "language_info": {
   "codemirror_mode": {
    "name": "ipython",
    "version": 3
   },
   "file_extension": ".py",
   "mimetype": "text/x-python",
   "name": "python",
   "nbconvert_exporter": "python",
   "pygments_lexer": "ipython3",
   "version": "3.7.1"
  }
 },
 "nbformat": 4,
 "nbformat_minor": 2
}
