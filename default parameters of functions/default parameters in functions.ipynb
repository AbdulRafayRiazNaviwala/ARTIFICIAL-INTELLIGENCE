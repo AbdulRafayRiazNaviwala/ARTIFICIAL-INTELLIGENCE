{
 "cells": [
  {
   "cell_type": "code",
   "execution_count": 1,
   "metadata": {},
   "outputs": [
    {
     "name": "stdout",
     "output_type": "stream",
     "text": [
      "I have a  city .\n",
      "It,'s company is  Honda\n"
     ]
    }
   ],
   "source": [
    "def mycar(name,company='Honda',model=2012):\n",
    "    print(\"I have a \",name,'.')\n",
    "    print(\"It,'s company is \",company)\n",
    "    \n",
    "mycar(\"city\")    "
   ]
  },
  {
   "cell_type": "code",
   "execution_count": 2,
   "metadata": {},
   "outputs": [
    {
     "name": "stdout",
     "output_type": "stream",
     "text": [
      "The size of my short is  33\n",
      "The text i want to write on it is  APNA TIME AYGA\n"
     ]
    }
   ],
   "source": [
    "def shirt(size,text='apna time ayga'):\n",
    "    print(\"The size of my short is \",size)\n",
    "    print(\"The text i want to write on it is \",text.upper())\n",
    "    \n",
    "shirt(33)    "
   ]
  },
  {
   "cell_type": "code",
   "execution_count": 4,
   "metadata": {},
   "outputs": [
    {
     "name": "stdout",
     "output_type": "stream",
     "text": [
      "fname:  Abdul Rafay\n",
      "Lname:  Muhammad Riaz\n",
      "Age:  18\n",
      "Gender:  Male\n"
     ]
    }
   ],
   "source": [
    "def human(First_name,last_name,age,Gender):\n",
    "    person={'fname: ':First_name,'Lname: ':last_name,'Age: ':age,'Gender: ':Gender}\n",
    "    for key,value in person.items():\n",
    "        print(key,value)\n",
    "        \n",
    "human('Abdul Rafay','Muhammad Riaz',18,\"Male\")        "
   ]
  },
  {
   "cell_type": "code",
   "execution_count": 13,
   "metadata": {},
   "outputs": [],
   "source": [
    "def form(fn,mn,ls):\n",
    "    if fn!=None:\n",
    "        print(\"My first name is: \",fn)\n",
    "    if mn!=None or mn=='':\n",
    "        print(\"My middle name is: \",mn)\n",
    "    if ls!=None:\n",
    "        print(\"My last name is: \",ln)\n",
    "        \n",
    "        \n",
    "    print(\"full name is: \",fn,mn,ln) \n",
    "    \n",
    "form('Abdul Rafay',)        "
   ]
  },
  {
   "cell_type": "code",
   "execution_count": null,
   "metadata": {},
   "outputs": [],
   "source": []
  },
  {
   "cell_type": "code",
   "execution_count": 10,
   "metadata": {},
   "outputs": [],
   "source": [
    "def form():\n",
    "    \n",
    "        fn=input(\"My first name is: \")\n",
    "        mn=input(\"My middle name is: \")\n",
    "        ln=input(\"My last name is: \")\n",
    "\n",
    "        if mn=='' or None:\n",
    "                 print(\"My full name is: \",fn,mn,ln)"
   ]
  },
  {
   "cell_type": "code",
   "execution_count": 11,
   "metadata": {},
   "outputs": [
    {
     "name": "stdout",
     "output_type": "stream",
     "text": [
      "My first name is: abdul\n",
      "My middle name is: \n",
      "My last name is: riaz\n",
      "My full name is:  abdul  riaz\n"
     ]
    }
   ],
   "source": [
    "form()"
   ]
  },
  {
   "cell_type": "code",
   "execution_count": 15,
   "metadata": {},
   "outputs": [
    {
     "name": "stdout",
     "output_type": "stream",
     "text": [
      "Abdul Rafay\n"
     ]
    }
   ],
   "source": [
    "def myname(Fname,lname,mname=\" \"):\n",
    "    if mname:\n",
    "        full_name=Fname+''+mname+''+lname\n",
    "    else:\n",
    "        full_name=Fname+''+lname\n",
    "    return full_name\n",
    "a=myname('Abdul','Rafay')\n",
    "print(a)\n"
   ]
  },
  {
   "cell_type": "code",
   "execution_count": 24,
   "metadata": {},
   "outputs": [
    {
     "name": "stdout",
     "output_type": "stream",
     "text": [
      "AbdulRafayRiaz\n"
     ]
    }
   ],
   "source": [
    "b=myname('Abdul','Riaz','Rafay')\n",
    "print(b)"
   ]
  },
  {
   "cell_type": "code",
   "execution_count": 25,
   "metadata": {},
   "outputs": [],
   "source": [
    "def i_f(f_n,l_n,m_n=\"\",a=0,l=\"\"):\n",
    "    if m_n and a and l:\n",
    "        print(\"First Name:\",f_n,\"\\nMiddle Name:\",m_n,\"\\nLast Name:\",l_n,\"\\nAge:\",str(a),\"\\nLocation:\",l)\n",
    "    else:\n",
    "         print(\"First Name:\",f_n,\"\\nLast Name:\",l_n)"
   ]
  },
  {
   "cell_type": "code",
   "execution_count": 26,
   "metadata": {},
   "outputs": [
    {
     "name": "stdout",
     "output_type": "stream",
     "text": [
      "First Name: Abdul \n",
      "Middle Name: Rafay \n",
      "Last Name: Riaz \n",
      "Age: 18 \n",
      "Location: Dhoraji\n"
     ]
    }
   ],
   "source": [
    "i_f(\"Abdul\",\"Riaz\",\"Rafay\",18,\"Dhoraji\")"
   ]
  },
  {
   "cell_type": "code",
   "execution_count": 32,
   "metadata": {},
   "outputs": [
    {
     "name": "stdout",
     "output_type": "stream",
     "text": [
      "Name: Abdul , Age: 18\n"
     ]
    }
   ],
   "source": [
    "def personalInformation(firstName, lastName, middleName = \"\",age=\"\",address=\"\"):\n",
    "    result=\"Name: \"\n",
    "    \n",
    "    result+=firstName\n",
    "    \n",
    "    if middleName!=\"\":\n",
    "        result+=\" \"+middleName\n",
    "        \n",
    "    result+=\" \"+middleName\n",
    "    \n",
    "    if age !=0:\n",
    "        result+=\", Age: \"+age\n",
    "        \n",
    "    if address !=\"\":\n",
    "        result+=\", address: \"+address\n",
    "        \n",
    "    return result    \n",
    "\n",
    "print(personalInformation(\"Abdul\",\"Rafay\",age=\"18\"))"
   ]
  },
  {
   "cell_type": "code",
   "execution_count": 41,
   "metadata": {},
   "outputs": [
    {
     "name": "stdout",
     "output_type": "stream",
     "text": [
      "***Here is your pizza***\n",
      "cheese\n"
     ]
    }
   ],
   "source": [
    "def pizza(*topping):\n",
    "    print(\"***Here is your pizza***\")\n",
    "    for toppings in topping:\n",
    "        print(toppings)\n",
    "pizza('cheese')        "
   ]
  },
  {
   "cell_type": "code",
   "execution_count": 42,
   "metadata": {},
   "outputs": [
    {
     "name": "stdout",
     "output_type": "stream",
     "text": [
      "***Here is your pizza***\n",
      "cheese\n",
      "mushrooms\n",
      "olive\n"
     ]
    }
   ],
   "source": [
    "pizza('cheese','mushrooms','olive')"
   ]
  },
  {
   "cell_type": "code",
   "execution_count": null,
   "metadata": {},
   "outputs": [],
   "source": []
  }
 ],
 "metadata": {
  "kernelspec": {
   "display_name": "Python 3",
   "language": "python",
   "name": "python3"
  }
 },
 "nbformat": 4,
 "nbformat_minor": 2
}
