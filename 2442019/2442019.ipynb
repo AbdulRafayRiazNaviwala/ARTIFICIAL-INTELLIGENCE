{
 "cells": [
  {
   "cell_type": "code",
   "execution_count": null,
   "metadata": {},
   "outputs": [],
   "source": [
    "current_number= 0\n",
    "while current_number<10:\n",
    "    current_number +=1\n",
    "    if current_number%2==0:\n",
    "        continue\n",
    "    print(current_number)    "
   ]
  },
  {
   "cell_type": "code",
   "execution_count": null,
   "metadata": {},
   "outputs": [
    {
     "name": "stdout",
     "output_type": "stream",
     "text": [
      "Pizza Hut\n"
     ]
    }
   ],
   "source": [
    "print(\"Pizza Hut\")\n",
    "fq='quit'\n",
    "while True:\n",
    "    user_input=input(\"what flavour do you want?:     \")\n",
    "    if user_input==fq:\n",
    "        break\n",
    "    else:\n",
    "        print(\"your flavour is \"+user_input+\"\\n\")\n",
    "        break\n",
    "while True:\n",
    "    secondq=input(\"what size do you want to order?:     \")\n",
    "    if secondq==fq:\n",
    "        break\n",
    "    else:\n",
    "        print(\"your desired size is \"+secondq+\"\\n\")\n",
    "        break\n",
    "while True: \n",
    "    thirdq=input(\"your topping?    \")\n",
    "    if thirdq==fq:\n",
    "        break\n",
    "    else:\n",
    "        \n",
    "          print(\"your topping is of level \"+thirdq+\"\\n\")"
   ]
  },
  {
   "cell_type": "code",
   "execution_count": null,
   "metadata": {},
   "outputs": [],
   "source": []
  }
 ],
 "metadata": {
  "kernelspec": {
   "display_name": "Python 3",
   "language": "python",
   "name": "python3"
  },
  "language_info": {
   "codemirror_mode": {
    "name": "ipython",
    "version": 3
   },
   "file_extension": ".py",
   "mimetype": "text/x-python",
   "name": "python",
   "nbconvert_exporter": "python",
   "pygments_lexer": "ipython3",
   "version": "3.7.1"
  }
 },
 "nbformat": 4,
 "nbformat_minor": 2
}
