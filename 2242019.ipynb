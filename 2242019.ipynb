{
 "cells": [
  {
   "cell_type": "markdown",
   "metadata": {},
   "source": [
    "# A Dictionary in a Dictionary"
   ]
  },
  {
   "cell_type": "code",
   "execution_count": 1,
   "metadata": {},
   "outputs": [
    {
     "name": "stdout",
     "output_type": "stream",
     "text": [
      "\n",
      "Username: sheikh\n",
      "\tFull_name: Shahxzad Ahsan\n",
      "\tlocation: Bahadurabad\n",
      "\n",
      "Username: sir\n",
      "\tFull_name: Nasir Husain\n",
      "\tlocation: Gulshan\n"
     ]
    }
   ],
   "source": [
    "users={'sheikh':{'first':'shahxzad','last':'ahsan','location':'bahadurabad',},'sir':{'first':'nasir','last':'husain','location':'gulshan',}}\n",
    "for username ,user_info in users.items():\n",
    "    print(\"\\nUsername: \"+username)\n",
    "    full_name=user_info['first'] + \" \"+user_info['last']\n",
    "    location=user_info['location']\n",
    "    print(\"\\tFull_name: \"+full_name.title())\n",
    "    print(\"\\tlocation: \"+location.title())"
   ]
  },
  {
   "cell_type": "markdown",
   "metadata": {},
   "source": [
    "# While Loop"
   ]
  },
  {
   "cell_type": "code",
   "execution_count": 2,
   "metadata": {},
   "outputs": [
    {
     "name": "stdout",
     "output_type": "stream",
     "text": [
      "10 Hello\n",
      "9 Hello\n",
      "8 Hello\n",
      "7 Hello\n",
      "6 Hello\n",
      "5 Hello\n",
      "4 Hello\n",
      "3 Hello\n",
      "2 Hello\n",
      "1 Hello\n"
     ]
    }
   ],
   "source": [
    "a=10\n",
    "while a>0:\n",
    "    print(a,\"Hello\")\n",
    "    a-=1"
   ]
  },
  {
   "cell_type": "code",
   "execution_count": 3,
   "metadata": {},
   "outputs": [
    {
     "name": "stdout",
     "output_type": "stream",
     "text": [
      "1 Hello\n",
      "2 Hello\n",
      "3 Hello\n",
      "4 Hello\n",
      "5 Hello\n",
      "6 Hello\n",
      "7 Hello\n",
      "8 Hello\n",
      "9 Hello\n"
     ]
    }
   ],
   "source": [
    "a = 1\n",
    "while a<10:\n",
    "    print(a,\"Hello\")\n",
    "    a +=1"
   ]
  },
  {
   "cell_type": "markdown",
   "metadata": {},
   "source": [
    "# For loop"
   ]
  },
  {
   "cell_type": "code",
   "execution_count": 4,
   "metadata": {},
   "outputs": [
    {
     "name": "stdout",
     "output_type": "stream",
     "text": [
      "1 hello\n",
      "2 hello\n",
      "3 hello\n",
      "4 hello\n",
      "5 hello\n",
      "6 hello\n",
      "7 hello\n",
      "8 hello\n",
      "9 hello\n"
     ]
    }
   ],
   "source": [
    "for a in range(1,10):\n",
    "    print(a,\"hello\")"
   ]
  },
  {
   "cell_type": "markdown",
   "metadata": {},
   "source": [
    "# While loop"
   ]
  },
  {
   "cell_type": "code",
   "execution_count": 5,
   "metadata": {},
   "outputs": [
    {
     "name": "stdout",
     "output_type": "stream",
     "text": [
      "2\n",
      "4\n",
      "6\n",
      "8\n",
      "10\n"
     ]
    }
   ],
   "source": [
    "a=2 #for even\n",
    "while a<=10:\n",
    "    print(a)\n",
    "    a+=2"
   ]
  },
  {
   "cell_type": "code",
   "execution_count": 6,
   "metadata": {},
   "outputs": [
    {
     "name": "stdout",
     "output_type": "stream",
     "text": [
      "1\n",
      "3\n",
      "5\n",
      "7\n",
      "9\n"
     ]
    }
   ],
   "source": [
    "a=1 #for odd\n",
    "while a<=10:\n",
    "    print(a)\n",
    "    a+=2"
   ]
  },
  {
   "cell_type": "code",
   "execution_count": 7,
   "metadata": {},
   "outputs": [
    {
     "name": "stdout",
     "output_type": "stream",
     "text": [
      "2\n",
      "4\n",
      "6\n",
      "8\n",
      "10\n"
     ]
    }
   ],
   "source": [
    "a=int(input())\n",
    "while a<10:\n",
    "    if a%2==0:\n",
    "        a+=2\n",
    "        print(a)\n",
    "       #a+=2\n",
    "    if a%2!=0:\n",
    "        a+=2\n",
    "        print(a)\n",
    "       #a+=2"
   ]
  },
  {
   "cell_type": "code",
   "execution_count": 8,
   "metadata": {},
   "outputs": [
    {
     "name": "stdout",
     "output_type": "stream",
     "text": [
      "enter number : 3\n",
      "The square of the number is 9\n",
      "enter number : 4\n",
      "The square of the number is 16\n",
      "enter number : 5\n",
      "The square of the number is 25\n",
      "enter number : 6\n",
      "The square of the number is 36\n",
      "enter number : 9\n",
      "The square of the number is 81\n",
      "enter number : q\n",
      "you are out now\n"
     ]
    }
   ],
   "source": [
    "condition=True\n",
    "while condition:\n",
    "    num=input(\"enter number : \")\n",
    "    if num == 'q':\n",
    "        print(\"you are out now\")\n",
    "        condition =False\n",
    "    else:\n",
    "        print(\"The square of the number is\", int(num)**2)"
   ]
  },
  {
   "cell_type": "code",
   "execution_count": null,
   "metadata": {},
   "outputs": [
    {
     "name": "stdout",
     "output_type": "stream",
     "text": [
      "How to get truth?\n",
      "Let's see\n"
     ]
    }
   ],
   "source": [
    "print(\"How to get truth?\\nLet's see\")\n",
    "conition=True\n",
    "while conition:\n",
    "    strip=input(\"enter your statement:\")\n",
    "    if strip==\"i admit it\":\n",
    "        print(\"yeah,you can go now\")\n",
    "        condition=False\n",
    "    else:\n",
    "        print(\"no i will not spare you\")\n",
    "        #some issue in code maybe"
   ]
  },
  {
   "cell_type": "code",
   "execution_count": null,
   "metadata": {},
   "outputs": [
    {
     "name": "stdout",
     "output_type": "stream",
     "text": [
      "enter first number: 2\n",
      "enter second number: 4\n",
      "press 1 for addition\n",
      "press 2 for subtraction\n",
      "press 3 for multiplication\n",
      "press 4 for division\n",
      "\n",
      " 2\n",
      "-2\n"
     ]
    }
   ],
   "source": [
    "while True:\n",
    "        num1=int(input(\"enter first number: \"))\n",
    "        num2=int(input(\"enter second number: \"))\n",
    "        num3=input(\"press 1 for addition\\npress 2 for subtraction\\npress 3 for multiplication\\npress 4 for division\\n\\n \")\n",
    "        if num3==\"1\":\n",
    "                add=num1+num2\n",
    "                print(add)\n",
    "        elif num3==\"2\":\n",
    "                sub=num1-num2\n",
    "                print(sub) \n",
    "        elif num3==\"3\":\n",
    "                multiply=num1*num2\n",
    "                print(multiply) \n",
    "        elif num3==\"4\":\n",
    "                div=num1/num2\n",
    "                print(div)\n",
    "        else:\n",
    "                print(\"Invalid operation\")    "
   ]
  },
  {
   "cell_type": "code",
   "execution_count": null,
   "metadata": {},
   "outputs": [],
   "source": []
  }
 ],
 "metadata": {
  "kernelspec": {
   "display_name": "Python 3",
   "language": "python",
   "name": "python3"
  },
  "language_info": {
   "codemirror_mode": {
    "name": "ipython",
    "version": 3
   },
   "file_extension": ".py",
   "mimetype": "text/x-python",
   "name": "python",
   "nbconvert_exporter": "python",
   "pygments_lexer": "ipython3",
   "version": "3.7.1"
  }
 },
 "nbformat": 4,
 "nbformat_minor": 2
}
